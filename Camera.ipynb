{
 "cells": [
  {
   "cell_type": "markdown",
   "metadata": {},
   "source": [
    "# Import Required Libraries\n",
    "Import the necessary libraries, including OpenCV."
   ]
  },
  {
   "cell_type": "code",
   "execution_count": 1,
   "metadata": {},
   "outputs": [],
   "source": [
    "# Import the necessary libraries, including OpenCV\n",
    "import cv2"
   ]
  },
  {
   "cell_type": "markdown",
   "metadata": {},
   "source": [
    "# Initialize Camera\n",
    "Initialize the camera using OpenCV's VideoCapture function."
   ]
  },
  {
   "cell_type": "code",
   "execution_count": 19,
   "metadata": {},
   "outputs": [
    {
     "name": "stdout",
     "output_type": "stream",
     "text": [
      "Camera initialized successfully.\n"
     ]
    }
   ],
   "source": [
    "# Initialize the camera using OpenCV's VideoCapture function\n",
    "camera = cv2.VideoCapture(0)  # 0 is the default camera\n",
    "\n",
    "# Check if the camera opened successfully\n",
    "if not camera.isOpened():\n",
    "    print(\"Error: Could not open camera.\")\n",
    "else:\n",
    "    print(\"Camera initialized successfully.\")"
   ]
  },
  {
   "cell_type": "markdown",
   "metadata": {},
   "source": [
    "# Capture Image from Camera\n",
    "Capture an image frame from the camera."
   ]
  },
  {
   "cell_type": "code",
   "execution_count": 20,
   "metadata": {},
   "outputs": [],
   "source": [
    "# Capture an image frame from the camera\n",
    "ret, frame = camera.read()  # Read a frame from the camera\n",
    "\n",
    "# Check if the frame was captured successfully\n",
    "if ret:\n",
    "    # Convert the image to grayscale\n",
    "    gray_frame = cv2.cvtColor(frame, cv2.COLOR_BGR2GRAY)\n",
    "    \n",
    "    # Set the blue channel to zero\n",
    "    # Resize the image to new dimensions (e.g., 320x240)\n",
    "    resized_frame = cv2.resize(gray_frame, (320, 240))\n",
    "    \n",
    "    # Display the grayscale image\n",
    "    cv2.imshow('Captured Image (Grayscale)', gray_frame)\n",
    "    \n",
    "    \n",
    "    \n",
    "    # Wait for 1 second and close the window\n",
    "    cv2.waitKey(1000)\n",
    "    cv2.destroyAllWindows()\n",
    "else:\n",
    "    print(\"Error: Could not capture image.\")\n",
    "\n",
    "# Release the camera\n",
    "camera.release()"
   ]
  },
  {
   "cell_type": "markdown",
   "metadata": {},
   "source": [
    "# Display Captured Image\n",
    "Display the captured image using OpenCV's imshow function."
   ]
  },
  {
   "cell_type": "code",
   "execution_count": 24,
   "metadata": {},
   "outputs": [],
   "source": [
    "# Display the captured frame\n",
    "cv2.imshow('Captured Image', gray_frame)\n",
    "\n",
    "# Wait for a key press and close the window\n",
    "cv2.waitKey(1000)\n",
    "cv2.destroyAllWindows()"
   ]
  },
  {
   "cell_type": "markdown",
   "metadata": {},
   "source": [
    "# Release Camera\n",
    "Release the camera resource after capturing the image."
   ]
  },
  {
   "cell_type": "code",
   "execution_count": 22,
   "metadata": {},
   "outputs": [],
   "source": [
    "# Release the camera resource after capturing the image\n",
    "camera.release()  # Release the camera resource\n",
    "cv2.destroyAllWindows()  # Close all OpenCV windows"
   ]
  }
 ],
 "metadata": {
  "kernelspec": {
   "display_name": "pytorch_env",
   "language": "python",
   "name": "python3"
  },
  "language_info": {
   "codemirror_mode": {
    "name": "ipython",
    "version": 3
   },
   "file_extension": ".py",
   "mimetype": "text/x-python",
   "name": "python",
   "nbconvert_exporter": "python",
   "pygments_lexer": "ipython3",
   "version": "3.8.20"
  }
 },
 "nbformat": 4,
 "nbformat_minor": 2
}
