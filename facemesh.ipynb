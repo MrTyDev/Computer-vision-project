{
 "cells": [
  {
   "cell_type": "code",
   "execution_count": null,
   "metadata": {},
   "outputs": [],
   "source": [
    "import cv2\n",
    "import mediapipe as mp\n",
    "import time"
   ]
  },
  {
   "cell_type": "code",
   "execution_count": null,
   "metadata": {},
   "outputs": [],
   "source": [
    "cap = cv2.VideoCapture(0)\n"
   ]
  },
  {
   "cell_type": "code",
   "execution_count": null,
   "metadata": {},
   "outputs": [],
   "source": [
    "mpDraw = mp.solutions.drawing_utils\n",
    "mpFaceMesh = mp.solutions.face_mesh\n",
    "faceMesh = mpFaceMesh.FaceMesh(max_num_faces=2)\n",
    "drawSpec = mpDraw.DrawingSpec(thickness=1, circle_radius=2)"
   ]
  },
  {
   "cell_type": "code",
   "execution_count": null,
   "metadata": {},
   "outputs": [],
   "source": [
    "cTime = 0\n",
    "pTime = 0\n",
    "\n",
    "while True:\n",
    "    success, img = cap.read()\n",
    "\n",
    "\n",
    "    imgRGB = cv2.cvtColor(img, cv2.COLOR_BGR2RGB)\n",
    "    results = faceMesh.process(imgRGB)\n",
    "    if results.multi_face_landmarks:\n",
    "        for faceLms in results.multi_face_landmarks:\n",
    "            mpDraw.draw_landmarks(\n",
    "                img, faceLms, mpFaceMesh.FACEMESH_TESSELATION,\n",
    "                mpDraw.DrawingSpec(color=(0, 255, 0), thickness=1, circle_radius=1),\n",
    "                mpDraw.DrawingSpec(color=(0, 0, 255), thickness=1)\n",
    "            )\n",
    "\n",
    "            for id ,lm in enumerate(faceLms.landmark):\n",
    "                ih, iw, ic = img.shape\n",
    "                x, y = int(lm.x*iw), int(lm.y*ih)\n",
    "                print(id, x, y)\n",
    "\n",
    "\n",
    "    cTime = time.time()\n",
    "    fps = 1/(cTime - pTime)\n",
    "    pTime = cTime\n",
    "    cv2.putText(img, \"FPS: \" + str(int(fps)), (0, 20), cv2.FONT_HERSHEY_PLAIN, 1, (0, 255, 0), 1)\n",
    "    cv2.imshow(\"Image\", img)\n",
    "    cv2.waitKey(1)\n",
    "\n",
    "        \n"
   ]
  },
  {
   "cell_type": "code",
   "execution_count": null,
   "metadata": {},
   "outputs": [],
   "source": [
    "pic = cv2.imread('C:/Users/tyhug/OneDrive/Skrivbord/ML Final Project/test/happy/PrivateTest_95094.jpg')\n",
    "\n",
    "img = pic  # pic is already defined with cv2.imread\n",
    "if img is None:\n",
    "    print(\"Image not found or unable to load.\")\n",
    "else:\n",
    "    imgRGB = cv2.cvtColor(img, cv2.COLOR_BGR2RGB)\n",
    "    results = faceMesh.process(imgRGB)\n",
    "    \n",
    "    if results.multi_face_landmarks:\n",
    "        for faceLms in results.multi_face_landmarks:\n",
    "            mpDraw.draw_landmarks(\n",
    "                img, faceLms, mpFaceMesh.FACEMESH_TESSELATION,\n",
    "                mpDraw.DrawingSpec(color=(0, 255, 0), thickness=1, circle_radius=1),\n",
    "                mpDraw.DrawingSpec(color=(0, 0, 255), thickness=1)\n",
    "            )\n",
    "            for id, lm in enumerate(faceLms.landmark):\n",
    "                ih, iw, ic = img.shape\n",
    "                x, y = int(lm.x * iw), int(lm.y * ih)\n",
    "                print(id, x, y)\n",
    "    \n",
    "    cv2.imwrite('face_mesh_output.jpg', img)\n",
    "    # Display the processed image\n",
    "    cv2.imshow(\"Image\", img)\n",
    "    cv2.waitKey(0)\n",
    "    cv2.destroyAllWindows()"
   ]
  }
 ],
 "metadata": {
  "kernelspec": {
   "display_name": "myenv",
   "language": "python",
   "name": "python3"
  },
  "language_info": {
   "codemirror_mode": {
    "name": "ipython",
    "version": 3
   },
   "file_extension": ".py",
   "mimetype": "text/x-python",
   "name": "python",
   "nbconvert_exporter": "python",
   "pygments_lexer": "ipython3",
   "version": "3.10.15"
  }
 },
 "nbformat": 4,
 "nbformat_minor": 2
}
