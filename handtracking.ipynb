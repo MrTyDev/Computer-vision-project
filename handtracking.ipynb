{
 "cells": [
  {
   "cell_type": "code",
   "execution_count": null,
   "metadata": {},
   "outputs": [],
   "source": [
    "import cv2\n",
    "import mediapipe as mp\n",
    "import time"
   ]
  },
  {
   "cell_type": "code",
   "execution_count": null,
   "metadata": {},
   "outputs": [],
   "source": [
    "def handTracking():\n",
    "    \n",
    "\n",
    "    cap = cv2.VideoCapture(0)\n",
    "\n",
    "    mpHands = mp.solutions.hands\n",
    "    hands = mpHands.Hands()\n",
    "    mpDraw = mp.solutions.drawing_utils\n",
    "    cTime = 0\n",
    "    pTime = 0\n",
    "\n",
    "\n",
    "    while True:\n",
    "        success, img = cap.read()\n",
    "        imgRGB = cv2.cvtColor(img, cv2.COLOR_BGR2RGB)\n",
    "        results = hands.process(imgRGB)\n",
    "\n",
    "\n",
    "        if results.multi_hand_landmarks:\n",
    "            for handLms in results.multi_hand_landmarks:\n",
    "                for id, lm in enumerate(handLms.landmark):\n",
    "                    print(id, lm)\n",
    "                    h, w, c = img.shape\n",
    "                    cx, cy = int(lm.x * w), int(lm.y * h)\n",
    "                    print(id, cx, cy)\n",
    "                    if id == 8:\n",
    "                        cv2.circle(img, (cx, cy), 25, (255, 0, 255), cv2.FILLED)\n",
    "                mpDraw.draw_landmarks(img, handLms, mpHands.HAND_CONNECTIONS)\n",
    "\n",
    "        cTime = time.time()\n",
    "        fps = 1 / (cTime - pTime) if cTime - pTime != 0 else 0\n",
    "        pTime = cTime  # Update previous time\n",
    "\n",
    "\n",
    "        cv2.putText(img, str(int(fps)), (10, 70), cv2.FONT_HERSHEY_PLAIN, 3, (255, 0, 255), 3)\n",
    "\n",
    "\n",
    "        cv2.imshow('Image', img)\n",
    "        cv2.waitKey(1)"
   ]
  },
  {
   "cell_type": "code",
   "execution_count": null,
   "metadata": {},
   "outputs": [],
   "source": [
    "handTracking()"
   ]
  }
 ],
 "metadata": {
  "kernelspec": {
   "display_name": "myenv",
   "language": "python",
   "name": "python3"
  },
  "language_info": {
   "codemirror_mode": {
    "name": "ipython",
    "version": 3
   },
   "file_extension": ".py",
   "mimetype": "text/x-python",
   "name": "python",
   "nbconvert_exporter": "python",
   "pygments_lexer": "ipython3",
   "version": "3.10.15"
  }
 },
 "nbformat": 4,
 "nbformat_minor": 2
}
